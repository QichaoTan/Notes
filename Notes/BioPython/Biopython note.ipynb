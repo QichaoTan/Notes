{
 "cells": [
  {
   "attachments": {},
   "cell_type": "markdown",
   "metadata": {},
   "source": [
    "# What I can do with Biopython\n",
    "- The ability to parse bioinformatics files into Python utilizable data structure. The formats including Balst output, FASTA, Genbank, etc\n",
    "- Files in the supported formats can be iterated over record by record or indexed and accessed via a Dictionary interface\n",
    "- Code to deal with popular online bioinformatic destinations, such as NCBI and ExPASy\n",
    "- Interfaces to common bioinformatics programs, such as Standalone Blast from NCBI, Clustalw alignment program and EMBOSS command line\n",
    "- A standard sequence class that deals with sequences, ids on sequences, and sequence features\n",
    "- Tools for performing common operations on sequences, such as translation, transcription and weight calculations.\n",
    "- Code to perform classification of data using k Nearest Neighbors, Naive Bayes or Support Vector Machines.\n",
    "- Code fir dealing with alignment, including a standard way to create an deal with substitution matrices\n",
    "- Code making it easy to split up parallelizable tasks into separate processes.\n",
    "- GUI-based programs to do basic sequence manipulations, translations, BLASTing, etc"
   ]
  },
  {
   "cell_type": "code",
   "execution_count": 1,
   "metadata": {},
   "outputs": [
    {
     "name": "stdout",
     "output_type": "stream",
     "text": [
      "1.81\n"
     ]
    }
   ],
   "source": [
    "import Bio\n",
    "from Bio.Seq import Seq\n",
    "from Bio.Seq import MutableSeq\n",
    "print(Bio.__version__)"
   ]
  },
  {
   "attachments": {},
   "cell_type": "markdown",
   "metadata": {},
   "source": [
    "# Chapter 1: Sequence Object(the *Seq* object)\n",
    "\n",
    "The main differece between *Seq* objects and standard Python strings is they have different methods. *Seq* object supports many of the same method as a plain string, its *translate()* method differs by doing biological translation and there are also addition biolofically relevant methods like *reverse_complement()*\n"
   ]
  },
  {
   "attachments": {},
   "cell_type": "markdown",
   "metadata": {},
   "source": [
    "## *Seq* object act like strings\n",
    "\n",
    "You could access the Seq object using the method we normally use in dealing with Python string object, like getting the length, iterating over the elements."
   ]
  },
  {
   "attachments": {},
   "cell_type": "markdown",
   "metadata": {},
   "source": [
    "## Unsing *enumerate()* method"
   ]
  },
  {
   "cell_type": "code",
   "execution_count": 2,
   "metadata": {},
   "outputs": [
    {
     "name": "stdout",
     "output_type": "stream",
     "text": [
      "0 C\n",
      "1 G\n",
      "2 A\n",
      "3 T\n",
      "4 T\n",
      "5 A\n",
      "6 G\n",
      "7 C\n"
     ]
    }
   ],
   "source": [
    "my_seq = Seq('CGATTAGC')\n",
    "\n",
    "for index, letter in enumerate(my_seq):\n",
    "    print('%i %s' %(index, letter))"
   ]
  },
  {
   "attachments": {},
   "cell_type": "markdown",
   "metadata": {},
   "source": [
    "## Accessing elements in the sequence by index"
   ]
  },
  {
   "cell_type": "code",
   "execution_count": 3,
   "metadata": {},
   "outputs": [
    {
     "name": "stdout",
     "output_type": "stream",
     "text": [
      "G\n",
      "C\n"
     ]
    }
   ],
   "source": [
    "print(my_seq[1])\n",
    "print(my_seq[-1])"
   ]
  },
  {
   "attachments": {},
   "cell_type": "markdown",
   "metadata": {},
   "source": [
    "## *.count()* method in *Seq* object\n",
    "\n",
    "Just the string in Python, the *Seq* object has a *.count()* method, which return non-overlapping count and it is **case sensitive**."
   ]
  },
  {
   "cell_type": "code",
   "execution_count": 4,
   "metadata": {},
   "outputs": [
    {
     "name": "stdout",
     "output_type": "stream",
     "text": [
      "4\n",
      "0\n"
     ]
    }
   ],
   "source": [
    "print(Seq(\"AAAAAAAA\").count('AA'))\n",
    "print('AAAAAA'.count('aa'))"
   ]
  },
  {
   "attachments": {},
   "cell_type": "markdown",
   "metadata": {},
   "source": [
    "## Slicing a sequence\n",
    "\n",
    "*Seq* Object could be slided by using index with the grammar of *Seq[Start:End:Interval]*"
   ]
  },
  {
   "cell_type": "code",
   "execution_count": 5,
   "metadata": {},
   "outputs": [
    {
     "name": "stdout",
     "output_type": "stream",
     "text": [
      "CTGATCGA\n",
      "ATGCTAAAAATTATCGAA\n",
      "GCAGCTTGCGACCATCGT\n",
      "CTTAGGCTTCGTGGATC\n",
      "TACGATCGATCGATGCATCTGATCGATCATGACTAGTAGCTAGCTAGTCTCGA\n"
     ]
    }
   ],
   "source": [
    "my_seq = Seq('AGCTCTGATCGATCGATGATCAGTACTAGCTAGTCTACGTAGCTAGCTAGCAT')\n",
    "print(my_seq[4:12]) # getting index from index 4 to 12\n",
    "print(my_seq[0::3]) # starting from index 0, taking base from every 3 bases\n",
    "print(my_seq[1::3]) # starting from index 1, taking base from every 3 bases\n",
    "print(my_seq[2::3]) # starting from index 2, taking base from every 3 bases\n",
    "print(my_seq[::-1]) # flip the sequence"
   ]
  },
  {
   "attachments": {},
   "cell_type": "markdown",
   "metadata": {},
   "source": [
    "## Turning *Seq* objects into strings\n",
    "\n",
    "*Seq* object could turn into string by using the *str()* command and this could be used in converting a *Seq* object into **unwrapped** FASTA format record"
   ]
  },
  {
   "cell_type": "code",
   "execution_count": 6,
   "metadata": {},
   "outputs": [
    {
     "name": "stdout",
     "output_type": "stream",
     "text": [
      "AGCTCTGATCGATCGATGATCAGTACTAGCTAGTCTACGTAGCTAGCTAGCAT\n",
      ">Name \n",
      "AGCTCTGATCGATCGATGATCAGTACTAGCTAGTCTACGTAGCTAGCTAGCAT\n",
      "\n"
     ]
    }
   ],
   "source": [
    "print(str(my_seq))\n",
    "fasta_format_string = '>Name \\n%s\\n' % my_seq\n",
    "print(fasta_format_string)"
   ]
  },
  {
   "attachments": {},
   "cell_type": "markdown",
   "metadata": {},
   "source": [
    "## Concatenating or adding sequences\n",
    "\n",
    "Two *Seq* Object could be concatenated by adding them, a *for* loop and *.join()* method. Biopython does not check the sequence contects and ***will not*** rase an exception if you concatenate a protein sequence and a DNA sequence(which is likely to be a mistake)."
   ]
  },
  {
   "cell_type": "code",
   "execution_count": 7,
   "metadata": {},
   "outputs": [
    {
     "name": "stdout",
     "output_type": "stream",
     "text": [
      "ACGTAGAGCTAGCTGACTA\n",
      "ACGTAGAGCTAGCTGACTA\n",
      "ACGTAGNNNNNNNNNNAGCTAGCNNNNNNNNNNTGACTA\n"
     ]
    }
   ],
   "source": [
    "Seq1 = Seq('ACGTAG')\n",
    "Seq2 = Seq('AGCTAGC')\n",
    "Seq3 = Seq('TGACTA')\n",
    "Spacer = Seq('N'*10)\n",
    "Protein_seq = Seq('EVRNAK')\n",
    "\n",
    "print(Seq1+Seq2+Seq3) # Concatenating by adding\n",
    "\n",
    "# Concatenating by for loop\n",
    "SeqCluster  = [Seq1, Seq2, Seq3]\n",
    "ConcatenatedSeq = Seq('')\n",
    "for i in SeqCluster:\n",
    "    ConcatenatedSeq += i\n",
    "print(ConcatenatedSeq)\n",
    "\n",
    "# Concatenating by .join() method\n",
    "SpacerSeq = Spacer.join(SeqCluster)\n",
    "print(SpacerSeq)"
   ]
  },
  {
   "attachments": {},
   "cell_type": "markdown",
   "metadata": {},
   "source": [
    "## Changing case\n",
    "\n",
    "Python strings have very useful *upper()* and *lower()* methods for changing case."
   ]
  },
  {
   "cell_type": "code",
   "execution_count": 8,
   "metadata": {},
   "outputs": [
    {
     "name": "stdout",
     "output_type": "stream",
     "text": [
      "ACGTCGATCACGTACGAT\n",
      "acgtcgatcacgtacgat\n"
     ]
    }
   ],
   "source": [
    "DNASeq = Seq('ACGTCGATCacgtacgat')\n",
    "print(DNASeq.upper())\n",
    "print(DNASeq.lower())"
   ]
  },
  {
   "attachments": {},
   "cell_type": "markdown",
   "metadata": {},
   "source": [
    "## *complements()* and *reverse_complement()* method in *Seq* object\n",
    "\n",
    "For nucleotide sequences, you could easily obtain the complement or reverse complement of a *Seq* object by using the built-in *complement()* and *reverse_complement* method. You would get biologically meaningless result if you input a protein sequence."
   ]
  },
  {
   "cell_type": "code",
   "execution_count": 9,
   "metadata": {},
   "outputs": [
    {
     "name": "stdout",
     "output_type": "stream",
     "text": [
      "AGCTAGCTAGACTAGTGATCAGCTAGCTA\n",
      "TCGATCGATCTGATCACTAGTCGATCGAT\n",
      "TAGCTAGCTGATCACTAGTCTAGCTAGCT\n"
     ]
    }
   ],
   "source": [
    "my_seq = Seq('AGCTAGCTAGACTAGTGATCAGCTAGCTA')\n",
    "print(my_seq)\n",
    "print(my_seq.complement())\n",
    "print(my_seq.reverse_complement())"
   ]
  },
  {
   "attachments": {},
   "cell_type": "markdown",
   "metadata": {},
   "source": [
    "## *transcribe()* and *translate()* method in *Seq* object(Transcription and Translation)\n",
    "\n",
    "![image.png](attachment:image.png)\n",
    "\n",
    "Biologically speaking, transcription process starts from the template strand and doing a reverse complement to make mRNA. But in Biopython and in general bioinformatics, we typically work directly with the coding strand, because it's way easier to just switching T to U. In Biopython, we have *transcribe()*(DNA to mRNA) and *back_transcribe()*(mDNA to DNA) method to do those jobs."
   ]
  },
  {
   "cell_type": "code",
   "execution_count": 10,
   "metadata": {},
   "outputs": [
    {
     "name": "stdout",
     "output_type": "stream",
     "text": [
      "ATGGCCATTGTAATGGGCCGCTGAAAGGGTGCCCGATAG\n",
      "AUGGCCAUUGUAAUGGGCCGCUGAAAGGGUGCCCGAUAG\n",
      "ATGGCCATTGTAATGGGCCGCTGAAAGGGTGCCCGATAG\n",
      "AUGGCCAUUGUAAUGGGCCGCUGAAAGGGUGCCCGAUAG\n"
     ]
    }
   ],
   "source": [
    "CodingDNA = Seq(\"ATGGCCATTGTAATGGGCCGCTGAAAGGGTGCCCGATAG\")\n",
    "print(CodingDNA)\n",
    "MessengerRNA = CodingDNA.transcribe()\n",
    "print(MessengerRNA)\n",
    "print(MessengerRNA.back_transcribe())\n",
    "\n",
    "# To simulate what is really happening in cell\n",
    "TemplateDNA = CodingDNA.reverse_complement()\n",
    "MessengerRNA = TemplateDNA.reverse_complement().transcribe() # Enzyme working on Template DNA to get mRNA\n",
    "print(MessengerRNA)"
   ]
  },
  {
   "attachments": {},
   "cell_type": "markdown",
   "metadata": {},
   "source": [
    "The mRNA information could be tranlated to protein sequence by using the *translate()* method. *Tanslate()* method have some alternative arguments you could use. \n",
    "- *table* argument could change the translation table you could use. Different creatures or organelles have different genetic codes(translation tables) and the default value for this argument is the standard genetic code from NCBI. \n",
    "- *to_stop* argument could stop deciphering a sequence when a stop coden is detected. The default value for this argument is False.\n",
    "- *stop_symbol* argument could replace the default stop codon symbol '*' with arbitrary symbol you assigned.\n",
    "- *cds* argument will tell Biopython to translate an alternative start codon as methionine and make sure your sequence is a valid CDS(An exception will be raised if not). The default value is False. Use this argument if you know that your sequence ***starts with a start codon, ends with a stop codon and has no internal in-frame stop codons.***"
   ]
  },
  {
   "cell_type": "code",
   "execution_count": 11,
   "metadata": {},
   "outputs": [
    {
     "name": "stdout",
     "output_type": "stream",
     "text": [
      "MAIVMGR*KGAR*\n",
      "MAIVMGRWKGAR*\n",
      "MAIVMGRWKGAR*\n",
      "MAIVMGR\n",
      "MAIVMGR@KGAR@\n",
      "VKKMQSIVLALSLVLVAPMAAQAAEITLVPSVKLQIGDRDNRGYYWDGGHWRDHGWWKQHYEWRGNRWHLHGPPPPPRHHKKAPHDHHGGHGPGKHHR*\n",
      "VKKMQSIVLALSLVLVAPMAAQAAEITLVPSVKLQIGDRDNRGYYWDGGHWRDHGWWKQHYEWRGNRWHLHGPPPPPRHHKKAPHDHHGGHGPGKHHR\n",
      "MKKMQSIVLALSLVLVAPMAAQAAEITLVPSVKLQIGDRDNRGYYWDGGHWRDHGWWKQHYEWRGNRWHLHGPPPPPRHHKKAPHDHHGGHGPGKHHR\n"
     ]
    }
   ],
   "source": [
    "CodingDNA = Seq(\"ATGGCCATTGTAATGGGCCGCTGAAAGGGTGCCCGATAG\")\n",
    "print(CodingDNA.translate()) #using translation function\n",
    "print(CodingDNA.translate(table='Vertebrate Mitochondrial')) #using genetic code of vertibrate mitochondrial to do translation\n",
    "print(CodingDNA.translate(table=2)) #using different genetic code to do translation by indexing\n",
    "print(CodingDNA.translate(to_stop=True)) # stop the code when meeting end codon\n",
    "print(CodingDNA.translate(stop_symbol='@')) # replacing * with @ as end codon\n",
    "\n",
    "gene = Seq(\n",
    "\"GTGAAAAAGATGCAATCTATCGTACTCGCACTTTCCCTGGTTCTGGTCGCTCCCATGGCA\"\n",
    "\"GCACAGGCTGCGGAAATTACGTTAGTCCCGTCAGTAAAATTACAGATAGGCGATCGTGAT\"\n",
    "\"AATCGTGGCTATTACTGGGATGGAGGTCACTGGCGCGACCACGGCTGGTGGAAACAACAT\"\n",
    "\"TATGAATGGCGAGGCAATCGCTGGCACCTACACGGACCGCCGCCACCGCCGCGCCACCAT\"\n",
    "\"AAGAAAGCTCCTCATGATCATCACGGCGGTCATGGTCCAGGCAAACATCACCGCTAA\"\n",
    ")\n",
    "\n",
    "print(gene.translate(table='Bacterial'))\n",
    "print(gene.translate(table='Bacterial',to_stop=True))\n",
    "print(gene.translate(table=\"Bacterial\", cds=True))\n"
   ]
  },
  {
   "attachments": {},
   "cell_type": "markdown",
   "metadata": {},
   "source": [
    "## Comparing *Seq* objects\n",
    "\n",
    "In Biopython, the package could track down the molecule types and then comparing your sequence. For example, the DNA 'ACG' is different than the RNA and protein 'ACG'. In Biopython, the sequence comparison only looking at sequence and compares like Python string."
   ]
  },
  {
   "cell_type": "code",
   "execution_count": 12,
   "metadata": {},
   "outputs": [
    {
     "name": "stdout",
     "output_type": "stream",
     "text": [
      "True\n"
     ]
    }
   ],
   "source": [
    "Seq1 = Seq('AGCT')\n",
    "print(Seq1 == \"AGCT\")"
   ]
  },
  {
   "attachments": {},
   "cell_type": "markdown",
   "metadata": {},
   "source": [
    "## Sequence with undefined and partially defined sequence contents\n",
    "\n",
    "In some cases, the length of a sequence may be known but not the actual letters constituting it. We could create a *Seq* object with the argument *None*, followed by the sequence length. We could use this method without specifying the sequence content explicitly."
   ]
  },
  {
   "cell_type": "code",
   "execution_count": 13,
   "metadata": {},
   "outputs": [
    {
     "name": "stdout",
     "output_type": "stream",
     "text": [
      "10\n"
     ]
    }
   ],
   "source": [
    "UnknownSeq = Seq(None, 10)\n",
    "# print(UnknownSeq) # Bio.Seq.UndefinedSequenceError: Sequence content is undefined\n",
    "print(len(UnknownSeq))"
   ]
  },
  {
   "attachments": {},
   "cell_type": "markdown",
   "metadata": {},
   "source": [
    "Sometimes the sequence contents is defined by part of sequences only and undefined elsewhere. For example MAF(Multiple Alignment Format) file shows an alignment of creature's genome sequence with the format of '(starting position) + (size of aligned sequence) (aligned sequence)', like s rn5.chr4    42326848 36 + 248343840 CTGAAAACCTAAGTAGGAGAGACAGTTAAAGATAAT. We only know part of the sequence in the whole genome. \n",
    "\n",
    "So we could create a partially defined *Seq* object by using a dictionary for the *data* argument, where the key is the starting coordinates of the known sequence segmnet and the values are the corresponding sequences contents. "
   ]
  },
  {
   "cell_type": "code",
   "execution_count": 14,
   "metadata": {},
   "outputs": [
    {
     "data": {
      "text/plain": [
       "Seq({0: 'AGAGTCAGTCAAGGATAGT'}, length=41833273)"
      ]
     },
     "execution_count": 14,
     "metadata": {},
     "output_type": "execute_result"
    }
   ],
   "source": [
    "seq = Seq({117512683: \"TTGAAAACCTGAATGTGAGAGTCAGTCAAGGATAGT\"}, length=159345973)\n",
    "\n",
    "seq[1000:2000] #Seq(None, length=1000)\n",
    "seq[117512690:117512700] #Seq('CCTGAATGTG')\n",
    "seq[117512670:117512690] # Seq({13: 'TTGAAAA'}, length=20)\n",
    "seq[117512700:] #Seq({0: 'AGAGTCAGTCAAGGATAGT'}, length=41833273)"
   ]
  },
  {
   "attachments": {},
   "cell_type": "markdown",
   "metadata": {},
   "source": [
    "## *MutableSeq objects*\n",
    "\n",
    "*Seq* object is \"read-only\" or immutable, so you could not modify sequence by directly give them number and indexing. But you could convert it into a mutable sequence by using *MutableSeq* object and do everything you want. "
   ]
  },
  {
   "cell_type": "code",
   "execution_count": 15,
   "metadata": {},
   "outputs": [
    {
     "name": "stdout",
     "output_type": "stream",
     "text": [
      "AGCTAGCTAGACTAGTGATCAGCTAGCTA\n",
      "<class 'Bio.Seq.MutableSeq'>\n",
      "AGCTACCTAGACTAGTGATCAGCTAGCTA\n",
      "AGCACCTAGACTAGTGATCAGCTAGCTA\n",
      "ATCGATCGACTAGTGATCAGATCCACGA\n"
     ]
    }
   ],
   "source": [
    "mutable_seq = MutableSeq(my_seq)\n",
    "print(mutable_seq)\n",
    "print(type(mutable_seq))\n",
    "mutable_seq[5] = \"C\"\n",
    "print(mutable_seq)\n",
    "mutable_seq.remove(\"T\")\n",
    "print(mutable_seq)\n",
    "mutable_seq.reverse()\n",
    "print(mutable_seq)"
   ]
  },
  {
   "attachments": {},
   "cell_type": "markdown",
   "metadata": {},
   "source": [
    "# Chapter 2:  Sequence ananotation objects\n",
    "\n",
    "In this chapter, we will introduce some features in Biopython which is above *Seq* class. *SeqRecord* and *SeqFeature* objects define identifiers and features associate with the *Seq* Object which is used throughout the sequence input/output interface *Bio.SeqIO*."
   ]
  },
  {
   "attachments": {},
   "cell_type": "markdown",
   "metadata": {},
   "source": [
    "## *SeqRecord* class and its attributes\n",
    "\n",
    "The *SeqRecord* class enable you to add identifiers and features to be associated with sequence which is basic data type for the *Bio.SeqIO* sequence input/output interface. The *SeqRecord* class is simple, it has *attributes* as below:\n",
    "\n",
    "- *.seq*: The sequence itself, typically a *Seq* object.\n",
    "- *.id*: The primary ID used to identify the sequence. i.e. accession number\n",
    "- *.name*: A \"common\" name/id for the sequence. In some case, it's the same as the accession number, but it also could be a clone name.\n",
    "- *.description*: A human readable description or expressive name for the sequence.\n",
    "- *.letter_annotations*: Hold per-letter-annotations using a restricted dictionary of additional information about the letters in the sequence. Keys are the name of the information(quality scores, scondary structure, methylation pattern, etc.) and the values are as a Python list, tuple, or string with the smae length as the sequence itself.\n",
    "- *.annotation*: A dictionary of additional information about the sequence. The keys are the name of the information, and the information is contained in the value. This allowed more \"unstructured\" information to the sequence. \n",
    "- *.features*: A list of *SeqFeature* objects with more constructed information about the features on a sequence(e.g. position of a gene on a genome or domains on a protein sequence)\n",
    "- *.dbxrefs*: A list of database cross-references."
   ]
  },
  {
   "attachments": {},
   "cell_type": "markdown",
   "metadata": {},
   "source": [
    "### Generating a *SeqRecord* object from scratch\n",
    "\n",
    "To use *SeqRecord*, you ***start*** with a *Seq* object and give the attributes values. If the attributes are not given values, they will be set as strings indicating they are unknown. **If you want to output your SeqRecord to a file, it must have a identifier(.id).** "
   ]
  },
  {
   "cell_type": "code",
   "execution_count": 16,
   "metadata": {},
   "outputs": [],
   "source": [
    "from Bio.Seq import Seq\n",
    "from Bio.SeqRecord import SeqRecord\n",
    "from Bio import SeqFeature\n",
    "from Bio import SeqIO"
   ]
  },
  {
   "cell_type": "code",
   "execution_count": 17,
   "metadata": {},
   "outputs": [
    {
     "name": "stdout",
     "output_type": "stream",
     "text": [
      "ATCGGCAT AC12345 Made-up Sequences\n"
     ]
    }
   ],
   "source": [
    "SimpleSeq = Seq('ATCGGCAT')\n",
    "SimpleSeqR = SeqRecord(SimpleSeq)\n",
    "\n",
    "# Giving value to attributes of SeqRecord\n",
    "\n",
    "SimpleSeqR.id = \"AC12345\"\n",
    "SimpleSeqR.description = \"Made-up Sequences\"\n",
    "\n",
    "print(SimpleSeqR.seq, SimpleSeqR.id,SimpleSeqR.description)"
   ]
  },
  {
   "attachments": {},
   "cell_type": "markdown",
   "metadata": {},
   "source": [
    "*.annotation* could be used for any miscellaneous annotations that does not fit under one of the other more specific attributes. Annotations could be used as followed:"
   ]
  },
  {
   "cell_type": "code",
   "execution_count": 18,
   "metadata": {},
   "outputs": [
    {
     "name": "stdout",
     "output_type": "stream",
     "text": [
      "{'Evidence': 'I made that up.', 'Methylation': [1, 2, 3]}\n",
      "I made that up.\n"
     ]
    }
   ],
   "source": [
    "SimpleSeqR.annotations['Evidence'] = 'I made that up.'\n",
    "SimpleSeqR.annotations['Methylation'] = [1,2,3]\n",
    "\n",
    "print(SimpleSeqR.annotations)\n",
    "print(SimpleSeqR.annotations['Evidence'])"
   ]
  },
  {
   "attachments": {},
   "cell_type": "markdown",
   "metadata": {},
   "source": [
    "Working with per-letter-annotations is similar, *letter_annotations* is a dictionary like attribute which will let you assign any Python sequence (i.e. a string, list or tuple) which has ***the same length*** as the sequence:"
   ]
  },
  {
   "cell_type": "code",
   "execution_count": 19,
   "metadata": {},
   "outputs": [
    {
     "name": "stdout",
     "output_type": "stream",
     "text": [
      "{'phred_quality': [40, 30, 38, 30, 40, 38, 40, 30]}\n",
      "[40, 30, 38, 30, 40, 38, 40, 30]\n"
     ]
    }
   ],
   "source": [
    "SimpleSeqR.letter_annotations['phred_quality'] = [40,30,38,30,40,38,40,30]\n",
    "print(SimpleSeqR.letter_annotations)\n",
    "print(SimpleSeqR.letter_annotations['phred_quality'])"
   ]
  },
  {
   "attachments": {},
   "cell_type": "markdown",
   "metadata": {},
   "source": [
    "### Genrating *SeqRecord* onjects from FASTA files\n",
    "\n",
    "*Bio.SeqIO.parse()* could be used to parse FASTA(.fna) and Genbank files(.gb). The information in the FASTA and Genbank files will be given into the *SeqRecord* object's attributes. This example uses a fairly large FASTA file containing the whole sequence for Yersinia pestis biovar Microtus str. 91001 plasmid pPCP1, originally downloaded from the NCBI. "
   ]
  },
  {
   "cell_type": "code",
   "execution_count": 20,
   "metadata": {},
   "outputs": [
    {
     "name": "stdout",
     "output_type": "stream",
     "text": [
      "ID: gi|45478711|ref|NC_005816.1|\n",
      "Name: gi|45478711|ref|NC_005816.1|\n",
      "Description: gi|45478711|ref|NC_005816.1| Yersinia pestis biovar Microtus str. 91001 plasmid pPCP1, complete sequence\n",
      "Number of features: 0\n",
      "Seq('TGTAACGAACGGTGCAATAGTGATCCACACCCAACGCCTGAAATCAGATCCAGG...CTG')\n",
      "TGTAACGAACGGTGCAATAGTGATCCACACCCAACGCCTGAAATCAGATCCAGGGGGTAATCTGCTCTCCTGATTCAGGAGAGTTTATGGTCACTTTTGAGACAGTTATGGAAATTAAAATCCTGCACAAGCAGGGAATGAGTAGCCGGGCGATTGCCAGAGAACTGGGGATCTCCCGCAATACCGTTAAACGTTATTTGCAGGCAAAATCTGAGCCGCCAAAATATACGCCGCGACCTGCTGTTGCTTCACTCCTGGATGAATACCGGGATTATATTCGTCAACGCATCGCCGATGCTCATCCTTACAAAATCCCGGCAACGGTAATCGCTCGCGAGATCAGAGACCAGGGATATCGTGGCGGAATGACCATTCTCAGGGCATTCATTCGTTCTCTCTCGGTTCCTCAGGAGCAGGAGCCTGCCGTTCGGTTCGAAACTGAACCCGGACGACAGATGCAGGTTGACTGGGGCACTATGCGTAATGGTCGCTCACCGCTTCACGTGTTCGTTGCTGTTCTCGGATACAGCCGAATGCTGTACATCGAATTCACTGACAATATGCGTTATGACACGCTGGAGACCTGCCATCGTAATGCGTTCCGCTTCTTTGGTGGTGTGCCGCGCGAAGTGTTGTATGACAATATGAAAACTGTGGTTCTGCAACGTGACGCATATCAGACCGGTCAGCACCGGTTCCATCCTTCGCTGTGGCAGTTCGGCAAGGAGATGGGCTTCTCTCCCCGACTGTGTCGCCCCTTCAGGGCACAGACTAAAGGTAAGGTGGAACGGATGGTGCAGTACACCCGTAACAGTTTTTACATCCCACTAATGACTCGCCTGCGCCCGATGGGGATCACTGTCGATGTTGAAACAGCCAACCGCCACGGTCTGCGCTGGCTGCACGATGTCGCTAACCAACGAAAGCATGAAACAATCCAGGCCCGTCCCTGCGATCGCTGGCTCGAAGAGCAGCAGTCCATGCTGGCACTGCCTCCGGAGAAAAAAGAGTATGACGTGCATCTTGATGAAAATCTGGTGAACTTCGACAAACACCCCCTGCATCATCCACTCTCCATCTACGACTCATTCTGCAGAGGAGTGGCGTGATGATGGAACTGCAACATCAACGACTGATGGCGCTCGCCGGGCAGTTGCAACTGGAAAGCCTTATAAGCGCAGCGCCTGCGCTGTCACAACAGGCAGTAGACCAGGAATGGAGTTATATGGACTTCCTGGAGCATCTGCTTCATGAAGAAAAACTGGCACGTCATCAACGTAAACAGGCGATGTATACCCGAATGGCAGCCTTCCCGGCGGTGAAAACGTTCGAAGAGTATGACTTCACATTCGCCACCGGAGCACCGCAGAAGCAACTCCAGTCGTTACGCTCACTCAGCTTCATAGAACGTAATGAAAATATCGTATTACTGGGGCCATCAGGTGTGGGGAAAACCCATCTGGCAATAGCGATGGGCTATGAAGCAGTCCGTGCAGGTATCAAAGTTCGCTTCACAACAGCAGCAGATCTGTTACTTCAGTTATCTACGGCACAACGTCAGGGCCGTTATAAAACGACGCTTCAGCGTGGAGTAATGGCCCCCCGCCTGCTCATCATTGATGAAATAGGCTATCTGCCGTTCAGTCAGGAAGAAGCAAAGCTGTTCTTCCAGGTCATCGCTAAACGTTACGAAAAGAGCGCAATGATCCTGACATCCAATCTGCCGTTCGGGCAGTGGGATCAAACGTTCGCCGGTGATGCAGCACTGACCTCAGCGATGCTGGACCGTATCTTACACCACTCACATGTCGTTCAAATCAAAGGAGAAAGCTATCGACTCAGACAGAAACGAAAGGCCGGGGTTATAGCAGAAGCTAATCCTGAGTAAAACGGTGGATCAATATTGGGCCGTTGGTGGAGATATAAGTGGATCACTTTTCATCCGTCGTTGACACCCTGATGAATTCACGTGTTCACGCCTGAATAACAAGAATGCCGGAGATACGCAGTCATATTTTTTACACAATTCTCTAATCCCGACAAGGTCGTAGGTCGTTATAGGAAAATTCTTAGCACCATTCCGGAACAATCAGAACAGCAGGCCATGAACGACTGACAACATTACGAATATAAAAAACGCACCCGGGCCAGACATTCCCCCTACTGATTAAACCAGCCGGACTTGTCCACGGAACGGTCTTTTTAAACCGACACACAGTCTGAGTACAGATACATGTCACGATGATGCAGGATTAGCGGAAGAGTGTGAGCACGTTTCCGGGAACTGTGGTGAACCATAGCTCAATATTCGAGTGAGGGCATACCGGAAACGCGCTCAGATTCGTTGTAACGCGATTTTCCGTACCGGGCAATTTTTTCAGTTGTTTTTTCGTTTCATGTCGTCAGAAACGTTCTGAGCGCGTTTCCGGCATCTGATGCTACGCAAACCATCCCCATGGTCAGTTGACAGCCGGAAACACGCGGGTGTCGTTTTAGCGTATCGACGGGACGGCGTCGAGAAGCACAAAAAACAGATGTTGTACTCAGTCAGTTGTTTTACAGACAGCACTGCGGCAGATTGAAAAAGTACCGTACTTTCAGGAATGTCCAGAAACCATGTGTCAGACTTCGTTCTCCCCCTTCCGGGTGAATTTTTTTGTCATCCGTTCAGGAATCTCTTTATAACGATTACTCCATTTCAGGATTTTTTATGTGGCGTTTACTACAGGCAGGATATTCAAAGGCAAAAAAATCCCCCGGAACAGGCGGAACCCGGACAGGGGGAGAACGAATCGCTAAATAATTTTCGTAGTTGTATTTCCCATCGTTGCTACTGCAACGGGATGAATTTGCCGCAGTTTATCCTGTAAAACAATCCTGATTTACTCACACTCCACATATCACTGACGGAGCACAACGGAATAGTGAACAAACAACAACAAACTGCGCTGAATATGGCGCGATTTATCAGAAGCCAGAGCCTGATACTGCTTGAAAAACTGGATGCTCTGGATGCCGACGAGCAGGCGGCCATGTGTGAACGACTGCACGAACTCGCGGAAGAACTCCAGAACAGCATCCAGGCTCGCTTTGAAGCCGAAAGTGAAACAGGAACATAACGAAGCTCCCGGAGACGGTCACAGCTTGTCTGTGAACGGATGCCGGGAGCAGACAAGCCCGTCAGGGCGCGTCAGCGGGTTTTAGCGGGTGTCGGGGCGCAGCCATGACCCAGTCACGTAGCGATAGCGGAGTGTATACTGGCTTAGTCATGCGGCATCAGTGCGGATTGTATGAAAAGTGCACCATGTACGGTGTGAAATGCCGCACAGATGCGTAAGGAGAACATGCAGATGCCGATGCTCTTCCGCTTCCTCGCTCACTGACTCGCTGCGCTCGGTCGTTCGGCTGCGGCGAGCGGTGTCTGCTCACTCAAAAGCGGTGATACTGTTATCCACACAATCAGGGGATAACGCCGGAAAGAACATGTGAGCAAAAAACGAAGACCCCAGAAAAGGCCGCGCCGGAGGCGCTTTTTCCATAGGCTCCGCCCCCCTGACGAGCATCACAAAAATCGACGCTCAAGTCAGAGGTGGCGAAACCCGACAGGACTTAAAGATACCAGGCGTTTCCCCCCGGAAGCTCCCTCGTGCGCTCTCCTGTTCCGACCCTGCCGCTTACCGGATACCTCTCCGCCTTTCTCCCTTCGGGAAGCGTGGCGCTTTCTCATAGCTCACGCTGTTGGTATCTCAGTTCGGTGTAGGTCGTTCGCTCCAAGCTGGGCTGTGTGCACGAACCCCCCGTTCAGCCCGACCACTGCGCCTTATCCGGTAACTATCGTCTTGAGTCCAACCCGGTAAGACACGACTTTACGCCACTGGCAGCAGCCATTGGTAACTGAAAAGTGGATTTAGATACGCAGAACTCTTGAAGTTGAAGCCTTATCGCGGCTACACTGAAAGGACAGCATTTGGTATCTGTGCTCCACTTAAGCCAGCTACCACAGGTTAGAAAGCCTGAGAAACTTCTAACCTTCGAAAGAACCCACGCCTGAGAACGTGGGTTTTTTCGTTTACAGGCAGCAGATTACGCGCAGAAAAAAAGGATCTCAAGAAGATCCTTTGATCTTTTCTACTGAATTGCGCTCCCGATCAGTTCAGCAGAAGATTATGATGGGGTTCTATGGGTATTGCTGCGGTAACACCCATGTTACTTGAGGTTGTATGTAGTCTGTGTAGAATTATACACATAAGGCTTAAACTGCTCTTTTTTTTCAATATGCAATTGGAAGTTCATTGACTACATAAATAGATTATTCCAAATAATTTATTTATGTAAGAACAGGATGGGAGGGGGAATGATCTCAAAGTTATTTTGCTTGGCTCTCATATTTTTATCATCAAGTGGCCTTGCAGAAAAAAACACATATACAGCAAAAGACATCTTGCAAAACCTAGAATTAAATACCTTTGGCAATTCATTGTCTCATGGCATCTATGGGAAACAGACAACCTTCAAGCAAACCGAGTTTACAAATATTAAAAGCAACACCAAAAAACACATTGCACTTATCAATAAAGACAACTCATGGATGATATCATTAAAAATACTAGGAATTAAGAGAGATGAGTATACTGTCTGTTTTGAAGATTTCTCTCTAATAAGACCGCCAACATATGTAGCCATACATCCTCTACTTATAAAAAAAGTAAAATCTGGAAACTTTATAGTAGTGAAAGAAATAAAGAAATCTATCCCTGGTTGCACTGTATATTATCATTAATAGCAAGCCCCTCATTATTATGAGGGGCTCATGGTTATTTTAACAATCCACTATCGATATCTTTTTGCACCAGAGCGCCCTCTCGTTTACGTCTGTCAGACATTCCATCAACAATATTATTAAAAGCATTTACAAGGCCATTCCAGTCTTTTGCGATAACTTTATTCCATACTGTGGGAGCAGTTCTGGATAACTTAAACCCTTTTTGATATCCAATAGACACCAGTGCTGTACGGGTTCTCAACGGTAAATCGCTGAACCGAAGACCGATATTAGCGTCATTGAAAAGACCTTCAATCTTATGTGAGAATTTATCAATATAAATATTAGATAAGAGATGAGCTTCATTATCAGAAAGCGTCAGAGGTGCTGTTCTCACTTTATCATAAGCCTCCTTCCCTCGAAGCATATAATACCCATCAAGTCTATCTGCAATATACTGAGGGACACCGTCATTCAATAAATCCTGTTTGCTTCGCTGACCAAGGTCAACCCCGGAACCGAATGTAACACCGGTACTGTTAAAATAATCGCTACTAGGATTAGACGGAAAATGACTTGTCGGATTAAACCCTTCAAAACCATTACTGGAGAAAATATCGTGGTCAACAATATTTACCGAACGACGTAAAAATTCCTTCAGTTGACTAATATTGTCAAAGTTAATGACAGTGTTGTCCGCTAGGACGATGCGATTTCGGTTATTATTCAGAATGTCTTCGTTCTCTTTCTTATCGAGATGTTCAATAGATTCGGCAATCGTTCCCTCAAGAACCATGACACGGTAGACTTTCACACCGTCTTTTTCCTGACCTGTTTCAACAGTTATTTTCTGTTCGTAAGACACGGTCCCTTCAGTTTTTGAAATTTTACTTTCCTGGCGGATCTTATTTGAATATTCACTGTCTTTCTCCATCTCCGTATCAATCGGAAACCCCATAATGTACATCAGTTTAAAATTACTCCGGCCAGGCAGATCCACATAATGTGGTAATGCAATTGTAATCGAATTAGCTTCAAAATTTGGTCTGTAACTGCTTAATGTACTTCCGGAAAAGAGAAAAGCCGGAACACCACCTGAACCATTCACTACCATTGTATCTGACATAAAAATTCCTCTTTAACACATAAAAAAAACAATAAGTTAAAAAAATACTGTACATAAAAGCACTGTTTTTATGTACAGTAATAAAATTACGCCGCTTTATTTTCTCTGTCAATAATATGAAATTTCATTTTTGTGATCTGAATCACTCTTATAAAAATCAGGAAGGGAAGATTCGCAGCAGAAAAACAGCACCGGGTAACATCAGAAAAAAACAGAAAGGAGATAACGTGAGCAAAACAAAATCTGGTCGCCACCGACTGAGCAAAACAGACAAACGCCTGCTGGCTGCACTTGTCGTTGCCGGATACGAAGAACGGACAGCCCGTGACCTCATCCAGAAACACGTTTACACACTGACACAGGCCGACCTGCGCCATCTGGTCAGTGAAATCAGTAACGGTGTGGGACAGTCACAGGCCTACGATGCGATTTACCAGGCGAGACGCATTCGTCTCGCCCGTAAATACCTGAGCGGAAAAAAACCGGAAGGGGTGGAACCCCGGGAAGGGCAGGAACGGGAAGATTTACCATAACTCCCGTTATCAGTACCATCGGCTCAACGCTCGTTGTCGGATCTGAAAAATTCGCTCAAAAGATCATATTTCCCTGGATATTTTCCACCGTTTCTTATGTGAGAAAAGTCACATAATTCTGTCAGACGACGAGAAAACGGATATCGATTATTGTTTAATATTTTTACATTATTAAAAATGAAATTAGATAATCAGATACAAATAATATGTTTTCGTTCATGCAGAGAGATTAAGGGTGTCTAATGAAGAAAAGTTCTATTGTGGCAACCATTATAACTATTCTGTCCGGGAGTGCTAATGCAGCATCATCTCAGTTAATACCAAATATATCCCCTGACAGCTTTACAGTTGCAGCCTCCACCGGGATGCTGAGTGGAAAGTCTCATGAAATGCTTTATGACGCAGAAACAGGAAGAAAGATCAGCCAGTTAGACTGGAAGATCAAAAATGTCGCTATCCTGAAAGGTGATATATCCTGGGATCCATACTCATTTCTGACCCTGAATGCCAGGGGGTGGACGTCTCTGGCTTCCGGGTCAGGTAATATGGATGACTACGACTGGATGAATGAAAATCAATCTGAGTGGACAGATCACTCATCTCATCCTGCTACAAATGTTAATCATGCCAATGAATATGACCTCAATGTGAAAGGCTGGTTACTCCAGGATGAGAATTATAAAGCAGGTATAACAGCAGGATATCAGGAAACACGTTTCAGTTGGACAGCTACAGGTGGTTCATATAGTTATAATAATGGAGCTTATACCGGAAACTTCCCGAAAGGAGTGCGGGTAATAGGTTATAACCAGCGCTTTTCTATGCCATATATTGGACTTGCAGGCCAGTATCGCATTAATGATTTTGAGTTAAATGCATTATTTAAATTCAGCGACTGGGTTCGGGCACATGATAATGATGAGCACTATATGAGAGATCTTACTTTCCGTGAGAAGACATCCGGCTCACGTTATTATGGTACCGTAATTAACGCTGGATATTATGTCACACCTAATGCCAAAGTCTTTGCGGAATTTACATACAGTAAATATGATGAGGGCAAAGGAGGTACTCAGATCATTGATAAGAATAGTGGAGATTCTGTCTCTATTGGCGGAGATGCTGCCGGTATTTCCAATAAAAATTATACTGTGACGGCGGGTCTGCAATATCGCTTCTGAAAAATACAGATCATATCTCTCTTTTCATCCTCCCCTAGCGGGGAGGATGTCTGTGGAAAGGAGGTTGGTGTTTGACCAACCTTCAGATGTGTGAAAAATCACCTTTTTCACCATAATGACGGGGCGCTCATTCTGTTGTTTTGCCTTGACATTCTCCACGTCTTTCAGGGCATGGAGAAGGTCAAATTAGACATGGAACGCTACTCTCCTTCCTGTAGGAAGCTCAACATCCAAGCTTAATTTGCCTCCCATTGCTTCAACGTAACGCTTTAACGTCGCCAGCTTTAAATCATTTCCGCGCTGCTCCAGCTTTGTTACTGCTGGCTGGCTTATACCCATCGCCTCAGCAACTTGTTTTTGTGATAACTGGAGTTCTTCACGCATCATCTGCAAGCCGACCTCAAGAATCATCTCATCTGCCATTTCTTTAATTCGTGTCTGGCTTTCAGGTGAACGACTGGCAATCACCTCATCTAATGTTCTCATTACTTGCTCTCCAGTGTGTTCAGATGTGCTGTAAATTCATCCTCAGCTATACGCACCAGTTTTTCATAAAACCGCTTATCATTACTTTTATCTCCTGCACAAAGAACGATAGCCCGACGAATCGGATCGAACGCATAAAAGGCTCTTATCGGACGGCCAGAAAACTGAACGCGAAGCTCTTTCATATTTTTGTACCGAGAACCTTTCACGGTATCGGCATATGGCCTGGGTAACTCAGGTCCGTAAACCTGTAGCTTTTTCAAATCAGCCAAAACCTTTTCCTGAAGAGCGTCTTCTTGCTCATTTAGCCAGTCGTCAAATCGCTGGCTAAAAAGTACCATCCACATGCTCAACCCTATAACCTGTAGCTTACCCCACTAACAATATAACCTACGAGTTATATTTTCAAGAAAAGCTGGCTATTTAACATAACGGCAATTTGTACGCACCACTGAAATGCGTTCAGCGCGATCACGGCAACAGACAGGCAAAAATAGCAACAAACCTCCCGAAAAACCGCCGCGATCGCGCCTGATAAATTTTAACCTTATGCATATCTATGCAGCCAGGCGAATCACGAACGAATTGCCTGCCTGATGTAACTGAAACGGGTGTTTTTTCCTGATTTGGTGGGCGTGGAAGACGGAACATGAACGGGAAAACAGAATTCATGCCAGATGAGCGCGATCTGGCAATTAAGGCAAAACACAGCAACAAAGACACGCCAGAATCGCGCCCGGATATGTTTTAACGCGATTTTCAGACTCAGACAAATTCAGCAGAATGCTACTCCATTCACCGGGCTGATGGTGAATACATGCGTATCCAGGATGAGTACATTTCTGGCTCTGCCACAGCTCTGTCTGTTGGCAGCTTTCGCCTGTCCGGAAACCTGCTTAAAACGCTCCCGAAAGGCCTCTGAACCAGAAAGCAACAAAACACAGGCCATTAAGTAAATCGCGTTAAAACACGTCTGATGGATTGCTGCAAAAAAAAGTCCCTAATGGAGCAGGGACTGTTAAACCCAGTGAATAGCGTCTAAATTAAAGTAAGAATACGACCAGGTACTCTTCAGAAAAGAGATTAATCCACCGCACAGAATAATCAACAGTAAAAACAAACAACCCTGATTTTTTATTTTTCTTTTTTTCGATAAAAACAAAATTAAAGAAATAATTAATCAGAACATTCCTTAACTTCAGGGCATTGCCTGTGTTCCATTTTGTGATTAGTCTGAAACTTCCGAAGGTGGATAACACCCGGTATTTTTTTGCTCACATAAAGCCCCTCCTTCAGGCAGAGGGGCTTTTTCTTTGCCACCACATAAAAAAGGCCCTCACAGGAGGTGTTCTGTGAGGGCGTATGATAAGGACTGAATCGATGGTTAATATGTCTAGTCCTGACTTTTGCATCTCCGAATATAAAACCCTGTTTAACGGCATGCAAAACCAAAAAATAAAAATGTGACATCGCAATGCCAGATAATATTGACGCATGAGGGAATGCGTACCCCGACCCCTG\n",
      "gi|45478711|ref|NC_005816.1|\n",
      "gi|45478711|ref|NC_005816.1|\n",
      "gi|45478711|ref|NC_005816.1| Yersinia pestis biovar Microtus str. 91001 plasmid pPCP1, complete sequence\n",
      "[]\n",
      "{}\n",
      "{}\n",
      "[]\n"
     ]
    }
   ],
   "source": [
    "Record = SeqIO.read(\"NC_005816.fna\", \"fasta\")\n",
    "print(Record)\n",
    "print(Record.seq)\n",
    "print(Record.id)\n",
    "print(Record.name)\n",
    "print(Record.description)\n",
    "print(Record.dbxrefs)\n",
    "print(Record.annotations)\n",
    "print(Record.letter_annotations)\n",
    "print(Record.features)"
   ]
  },
  {
   "attachments": {},
   "cell_type": "markdown",
   "metadata": {},
   "source": [
    "The first word of the FASTA files is used for both *.id* and *.name* attributes. The whole first line is used as *.description*. All the other attributes will leave in blank."
   ]
  },
  {
   "attachments": {},
   "cell_type": "markdown",
   "metadata": {},
   "source": [
    "### Genearating *SeqRecord* objects from Genbank files\n",
    "\n",
    "Just as the FASTA files, we could also import Genbank files into a *SeqRecord* objects. Normally, a Genbank should format as below:\n",
    "\n",
    "LOCUS NC_005816 9609 bp DNA circular BCT 21-JUL-2008\n",
    "DEFINITION Yersinia pestis biovar Microtus str. 91001 plasmid pPCP1, complete\n",
    "sequence.\n",
    "ACCESSION NC_005816\n",
    "VERSION NC_005816.1 GI:45478711\n",
    "PROJECT GenomeProject:10638\n",
    "......"
   ]
  },
  {
   "cell_type": "code",
   "execution_count": 21,
   "metadata": {},
   "outputs": [
    {
     "name": "stdout",
     "output_type": "stream",
     "text": [
      "ID: NC_005816.1\n",
      "Name: NC_005816\n",
      "Description: Yersinia pestis biovar Microtus str. 91001 plasmid pPCP1, complete sequence\n",
      "Database cross-references: Project:58037\n",
      "Number of features: 41\n",
      "/molecule_type=DNA\n",
      "/topology=circular\n",
      "/data_file_division=BCT\n",
      "/date=21-JUL-2008\n",
      "/accessions=['NC_005816']\n",
      "/sequence_version=1\n",
      "/gi=45478711\n",
      "/keywords=['']\n",
      "/source=Yersinia pestis biovar Microtus str. 91001\n",
      "/organism=Yersinia pestis biovar Microtus str. 91001\n",
      "/taxonomy=['Bacteria', 'Proteobacteria', 'Gammaproteobacteria', 'Enterobacteriales', 'Enterobacteriaceae', 'Yersinia']\n",
      "/references=[Reference(title='Genetics of metabolic variations between Yersinia pestis biovars and the proposal of a new biovar, microtus', ...), Reference(title='Complete genome sequence of Yersinia pestis strain 91001, an isolate avirulent to humans', ...), Reference(title='Direct Submission', ...), Reference(title='Direct Submission', ...)]\n",
      "/comment=PROVISIONAL REFSEQ: This record has not yet been subject to final\n",
      "NCBI review. The reference sequence was derived from AE017046.\n",
      "COMPLETENESS: full length.\n",
      "Seq('TGTAACGAACGGTGCAATAGTGATCCACACCCAACGCCTGAAATCAGATCCAGG...CTG')\n"
     ]
    }
   ],
   "source": [
    "Record = SeqIO.read(\"NC_005816.gb\",\"genbank\")\n",
    "print(Record)"
   ]
  },
  {
   "cell_type": "code",
   "execution_count": 22,
   "metadata": {},
   "outputs": [
    {
     "name": "stdout",
     "output_type": "stream",
     "text": [
      "NC_005816.1\n",
      "NC_005816\n",
      "Yersinia pestis biovar Microtus str. 91001 plasmid pPCP1, complete sequence\n",
      "{'molecule_type': 'DNA', 'topology': 'circular', 'data_file_division': 'BCT', 'date': '21-JUL-2008', 'accessions': ['NC_005816'], 'sequence_version': 1, 'gi': '45478711', 'keywords': [''], 'source': 'Yersinia pestis biovar Microtus str. 91001', 'organism': 'Yersinia pestis biovar Microtus str. 91001', 'taxonomy': ['Bacteria', 'Proteobacteria', 'Gammaproteobacteria', 'Enterobacteriales', 'Enterobacteriaceae', 'Yersinia'], 'references': [Reference(title='Genetics of metabolic variations between Yersinia pestis biovars and the proposal of a new biovar, microtus', ...), Reference(title='Complete genome sequence of Yersinia pestis strain 91001, an isolate avirulent to humans', ...), Reference(title='Direct Submission', ...), Reference(title='Direct Submission', ...)], 'comment': 'PROVISIONAL REFSEQ: This record has not yet been subject to final\\nNCBI review. The reference sequence was derived from AE017046.\\nCOMPLETENESS: full length.'}\n",
      "{}\n",
      "['Project:58037']\n",
      "[SeqFeature(SimpleLocation(ExactPosition(0), ExactPosition(9609), strand=1), type='source', qualifiers=...), SeqFeature(SimpleLocation(ExactPosition(0), ExactPosition(1954), strand=1), type='repeat_region'), SeqFeature(SimpleLocation(ExactPosition(86), ExactPosition(1109), strand=1), type='gene', qualifiers=...), SeqFeature(SimpleLocation(ExactPosition(86), ExactPosition(1109), strand=1), type='CDS', qualifiers=...), SeqFeature(SimpleLocation(ExactPosition(86), ExactPosition(959), strand=1), type='misc_feature', qualifiers=...), SeqFeature(SimpleLocation(BeforePosition(110), ExactPosition(209), strand=1), type='misc_feature', qualifiers=...), SeqFeature(SimpleLocation(ExactPosition(437), ExactPosition(812), strand=1), type='misc_feature', qualifiers=...), SeqFeature(SimpleLocation(ExactPosition(1105), ExactPosition(1888), strand=1), type='gene', qualifiers=...), SeqFeature(SimpleLocation(ExactPosition(1105), ExactPosition(1888), strand=1), type='CDS', qualifiers=...), SeqFeature(SimpleLocation(ExactPosition(1108), ExactPosition(1885), strand=1), type='misc_feature', qualifiers=...), SeqFeature(SimpleLocation(ExactPosition(1366), AfterPosition(1669), strand=1), type='misc_feature', qualifiers=...), SeqFeature(SimpleLocation(ExactPosition(1432), ExactPosition(1456), strand=1), type='misc_feature', qualifiers=...), SeqFeature(CompoundLocation([SimpleLocation(ExactPosition(1435), ExactPosition(1459), strand=1), SimpleLocation(ExactPosition(1618), ExactPosition(1621), strand=1)], 'order'), type='misc_feature', location_operator='order', qualifiers=...), SeqFeature(SimpleLocation(ExactPosition(1606), ExactPosition(1624), strand=1), type='misc_feature', qualifiers=...), SeqFeature(SimpleLocation(ExactPosition(2924), ExactPosition(3119), strand=1), type='gene', qualifiers=...), SeqFeature(SimpleLocation(ExactPosition(2924), ExactPosition(3119), strand=1), type='CDS', qualifiers=...), SeqFeature(SimpleLocation(ExactPosition(2924), ExactPosition(3107), strand=1), type='misc_feature', qualifiers=...), SeqFeature(SimpleLocation(ExactPosition(3485), ExactPosition(3857), strand=1), type='gene', qualifiers=...), SeqFeature(SimpleLocation(ExactPosition(3485), ExactPosition(3857), strand=1), type='CDS', qualifiers=...), SeqFeature(SimpleLocation(ExactPosition(3497), ExactPosition(3626), strand=1), type='misc_feature', qualifiers=...), SeqFeature(SimpleLocation(ExactPosition(4342), ExactPosition(4780), strand=1), type='gene', qualifiers=...), SeqFeature(SimpleLocation(ExactPosition(4342), ExactPosition(4780), strand=1), type='CDS', qualifiers=...), SeqFeature(SimpleLocation(ExactPosition(4814), ExactPosition(5888), strand=-1), type='gene', qualifiers=...), SeqFeature(SimpleLocation(ExactPosition(4814), ExactPosition(5888), strand=-1), type='CDS', qualifiers=...), SeqFeature(SimpleLocation(ExactPosition(5909), ExactPosition(5911), strand=1), type='variation', qualifiers=...), SeqFeature(SimpleLocation(ExactPosition(5933), ExactPosition(5933), strand=1), type='variation', qualifiers=...), SeqFeature(SimpleLocation(ExactPosition(5933), ExactPosition(5933), strand=1), type='variation', qualifiers=...), SeqFeature(SimpleLocation(ExactPosition(5947), ExactPosition(5948), strand=1), type='variation', qualifiers=...), SeqFeature(SimpleLocation(ExactPosition(6004), ExactPosition(6421), strand=1), type='gene', qualifiers=...), SeqFeature(SimpleLocation(ExactPosition(6004), ExactPosition(6421), strand=1), type='CDS', qualifiers=...), SeqFeature(SimpleLocation(ExactPosition(6524), ExactPosition(6525), strand=1), type='variation', qualifiers=...), SeqFeature(SimpleLocation(ExactPosition(6663), ExactPosition(7602), strand=1), type='gene', qualifiers=...), SeqFeature(SimpleLocation(ExactPosition(6663), ExactPosition(7602), strand=1), type='CDS', qualifiers=...), SeqFeature(SimpleLocation(ExactPosition(6663), ExactPosition(7599), strand=1), type='misc_feature', qualifiers=...), SeqFeature(SimpleLocation(ExactPosition(7788), ExactPosition(8088), strand=-1), type='gene', qualifiers=...), SeqFeature(SimpleLocation(ExactPosition(7788), ExactPosition(8088), strand=-1), type='CDS', qualifiers=...), SeqFeature(SimpleLocation(ExactPosition(7836), ExactPosition(7995), strand=-1), type='misc_feature', qualifiers=...), SeqFeature(SimpleLocation(ExactPosition(8087), ExactPosition(8360), strand=-1), type='gene', qualifiers=...), SeqFeature(SimpleLocation(ExactPosition(8087), ExactPosition(8360), strand=-1), type='CDS', qualifiers=...), SeqFeature(SimpleLocation(ExactPosition(8090), AfterPosition(8357), strand=-1), type='misc_feature', qualifiers=...), SeqFeature(SimpleLocation(ExactPosition(8529), ExactPosition(8529), strand=1), type='variation', qualifiers=...)]\n",
      "41\n"
     ]
    }
   ],
   "source": [
    "print(Record.id)\n",
    "print(Record.name)\n",
    "print(Record.description)\n",
    "print(Record.annotations)\n",
    "print(Record.letter_annotations)\n",
    "print(Record.dbxrefs)\n",
    "print(Record.features)\n",
    "print(len(Record.features))"
   ]
  },
  {
   "attachments": {},
   "cell_type": "markdown",
   "metadata": {},
   "source": [
    "## Feature, location and position objects\n",
    "\n",
    "### *SeqFeature* object\n",
    "\n",
    "*SeqFeature* object attempt to encapsulate as much of the information about **a region on parent sequence**, typically a *SeqRecord* object. The *SeqFeature* object is defined with *location* object, typically between two positions. *SeqFeature* has a number number of attributes whihc are listed below:\n",
    "\n",
    "- *.type*: This is a textual description of the type of feature, like CDS and gene.\n",
    "- *.location*: The location of the *SeqFeature* on the sequence that you are dealing with. It includes a number of shortcut attributes for properties of the location.\n",
    "  - *.ref*: shorthand for *.location.ref*. Any reference sequence the location is referring to. Usually just None.\n",
    "  - *.ref_db*: shorthand for *.location.ref_db*. Specifies the database any identifier in *.ref* refers to. Usually just None.\n",
    "  - *.strand*: shorthand for *.location.strand*. The strand that the sequence that the feature is located on.\n",
    "    - 1 for the top strand of a dsDNA.\n",
    "    - -1 for the bottom strand of a dsDNA.\n",
    "    - 0 for the strand is important but is unknown.\n",
    "    - None for it does not matter, normally for proteins or ssDNA.\n",
    "- *.qualifier*: Use a Python dictionary of additional information about the feature. the key is one-word description of the information and the value is the actual information. This is a reflection of the feature tables in Genbank/EMBL files.\n",
    "\n",
    "### Position and location\n",
    "\n",
    "Postion and location is to describe a region on a parent sequence. Location object is described by the range between two positions. \n",
    "\n",
    "- Position: This refers to a region in the sequence, which could be ambiguous or clear. e.g. 5, 20, >200, <100 could all be positions.\n",
    "- Location: This refers to a certain sequence location defined by a clear vaule. e.g. 3, 20.\n",
    "  \n",
    "#### *SimpleLocation* object\n",
    "\n",
    "**Unless you work with eukaryotic genes**, most *SeqFeature* locations are extremely simple - you just need **start and end** coordinates and a strand. That’s essentially all the basic *SimpleLocation* object does.\n",
    "\n",
    "#### *CompoundLocation* object\n",
    "\n",
    "If you have to deal with complex locations made up of multiple regions are represented, *CompoundLocation* will be a useful tool. This feature is normally used to handle 'join' location in EMBL/GenBank files.\n",
    "\n",
    "#### Fuzzy Position:\n",
    "\n",
    " For example, in a dinucleotide priming experiment and discover that the start of mRNA transcript starts at one of two sites. We could use the fuzzy postion function in Biopython to address this problem. Five classes are designed in Biopython to deal with the fuzzy position problem if you did not figure out where is the start point.\n",
    "\n",
    "- *ExactPosition*: Represents a position which is specified as exact along the sequence.\n",
    "- *BeforePosition*: Represents a fuzzy position that occurs prior to some specified site. In Genbank/EMBL notation, this is represented as something like '<13'.\n",
    "- *AfterPosition*: Represents a fuzzy postion that occurs after some specified site. In Genbank/EMBL notation, this is reoresented as something like '>13'.\n",
    "- *WithinPosition*: Occasionally used for Genbank/EMBL locations, this class models a position which occurs somewhere between  two specified nucleotides. In Genbank/EMBL notation, this would be represented as (1,5).\n",
    "- *OneOfPosition*: Occasionally used for Genbank/EMBL locations, this class deals with a position where several possible values exist.\n",
    "- *UnknownPosition*: This class deals with a position of unknown location. This is not used in Genbank/EMBL, but corresponds to the '?' feature coordinate used in UniProt.\n",
    " "
   ]
  },
  {
   "cell_type": "code",
   "execution_count": 23,
   "metadata": {},
   "outputs": [
    {
     "name": "stdout",
     "output_type": "stream",
     "text": [
      "[>5:(8^9)]\n",
      ">5\n",
      "(8^9)\n"
     ]
    }
   ],
   "source": [
    "start_position = SeqFeature.AfterPosition(5)\n",
    "end_position = SeqFeature.BetweenPosition(9,left=8, right=9) #either left or right should be the position\n",
    "my_location = SeqFeature.SimpleLocation(start_position,end_position)\n",
    "\n",
    "print(my_location)\n",
    "print(my_location.start)\n",
    "print(my_location.end)"
   ]
  },
  {
   "attachments": {},
   "cell_type": "markdown",
   "metadata": {},
   "source": [
    "If you have a SNP of interest and you want to know which feature this SNP within, we could use a for loop to check all the features."
   ]
  },
  {
   "cell_type": "code",
   "execution_count": 24,
   "metadata": {},
   "outputs": [
    {
     "name": "stdout",
     "output_type": "stream",
     "text": [
      "source ['taxon:229193']\n",
      "gene ['GeneID:2767712']\n",
      "CDS ['GI:45478716', 'GeneID:2767712']\n"
     ]
    }
   ],
   "source": [
    "my_snp = 4350\n",
    "Record = SeqIO.read('NC_005816.gb','genbank')\n",
    "for feature in Record.features:\n",
    "    if my_snp in feature:\n",
    "        print(\"%s %s\" % (feature.type, feature.qualifiers.get(\"db_xref\")))"
   ]
  },
  {
   "attachments": {},
   "cell_type": "markdown",
   "metadata": {},
   "source": [
    "### Sequence describes by a feature or location\n",
    "\n",
    "*SeqFeature* or location object doesn't directly contain a sequence, but the location describe how to get this from the parent sequence by [slicing](#slicing-a-sequence). "
   ]
  },
  {
   "cell_type": "code",
   "execution_count": 25,
   "metadata": {},
   "outputs": [
    {
     "name": "stdout",
     "output_type": "stream",
     "text": [
      "AGCCTTTGCCGTC\n"
     ]
    }
   ],
   "source": [
    "from Bio.SeqFeature import SeqFeature, SimpleLocation\n",
    "\n",
    "seq = Seq(\"ACCGAGACGGCAAAGGCTAGCATAGGTATGAGACTTCCTTCCTGCCAGTGCTGAGGAACTGGGAGCCTAC\")\n",
    "feature = SeqFeature(SimpleLocation(5,18, strand = -1), type = 'gene')\n",
    "\n",
    "feature_seq = seq[feature.location.start:feature.location.end].reverse_complement()\n",
    "print(feature_seq)"
   ]
  },
  {
   "attachments": {},
   "cell_type": "markdown",
   "metadata": {},
   "source": [
    "If you need to deal with compound features which is rather messy than the simple example. We have a *.extract* mothed to concatenate all the sequence."
   ]
  },
  {
   "cell_type": "code",
   "execution_count": 26,
   "metadata": {},
   "outputs": [
    {
     "name": "stdout",
     "output_type": "stream",
     "text": [
      "AGCCTTTGCCGTC\n"
     ]
    }
   ],
   "source": [
    "feature_seq = feature.extract(seq)\n",
    "print(feature_seq)"
   ]
  },
  {
   "attachments": {},
   "cell_type": "markdown",
   "metadata": {},
   "source": [
    "## Comparison\n",
    "\n",
    "Two *SeqRecord* objects normally can not be compared, it will raise an explicit error(NotImplemented Error) if you try to do that. But you could still compare two *SeqRecord* by comparing the attributes."
   ]
  },
  {
   "cell_type": "code",
   "execution_count": 27,
   "metadata": {},
   "outputs": [
    {
     "name": "stdout",
     "output_type": "stream",
     "text": [
      "True\n",
      "True\n"
     ]
    }
   ],
   "source": [
    "record1 = SeqRecord(Seq('ACGT'), id = 'test')\n",
    "record2 = SeqRecord(Seq('ACGT'), id = 'test')\n",
    "\n",
    "print(record1.seq == record2.seq)\n",
    "print(record1.id == record2.id)"
   ]
  },
  {
   "attachments": {},
   "cell_type": "markdown",
   "metadata": {},
   "source": [
    "## References\n",
    "\n",
    "Another common annotation related to a sequence is a reference to a journal or other published work dealing with sequence. So, a class *Bio.SeqFeature.Reference*, is designed to store the relevent information about a reference as attibutes of an object."
   ]
  },
  {
   "attachments": {},
   "cell_type": "markdown",
   "metadata": {},
   "source": [
    "## The *.format* method for *SeqFeature* object\n",
    "\n",
    "The *format()* method of the *SeqRecord* class gives a string containing your record record formatted using one of the output file formates supported by *Bio.SeqIO*, such as FASTA:"
   ]
  },
  {
   "cell_type": "code",
   "execution_count": 28,
   "metadata": {},
   "outputs": [
    {
     "name": "stdout",
     "output_type": "stream",
     "text": [
      ">gi|14150838|gb|AAK54648.1|AF376133_1 chalcone synthase [Cucumis sativus]\n",
      "MMYQQGCFAGGTVLRLAKDLAENNRGARVLVVCSEITAVTFRGPSETHLDSMVGQALFGD\n",
      "GAGAVIVGSDPDLSVERPLYELVWTGATLLPDSEGAIDGHLREVGLTFHLLKDVPGLISK\n",
      "NIEKSLKEAFTPLGISDWNSTFWIAHPGGPAILDQVEAKLGLKEEKMRATREVLSEYGNM\n",
      "SSAC\n",
      "\n"
     ]
    }
   ],
   "source": [
    "from Bio.Seq import Seq\n",
    "from Bio.SeqRecord import SeqRecord\n",
    "\n",
    "record = SeqRecord(\n",
    "Seq(\n",
    "    \"MMYQQGCFAGGTVLRLAKDLAENNRGARVLVVCSEITAVTFRGPSETHLDSMVGQALFGD\"\n",
    "    \"GAGAVIVGSDPDLSVERPLYELVWTGATLLPDSEGAIDGHLREVGLTFHLLKDVPGLISK\"\n",
    "    \"NIEKSLKEAFTPLGISDWNSTFWIAHPGGPAILDQVEAKLGLKEEKMRATREVLSEYGNM\"\n",
    "    \"SSAC\"\n",
    "    ),\n",
    "    id=\"gi|14150838|gb|AAK54648.1|AF376133_1\",\n",
    "    description=\"chalcone synthase [Cucumis sativus]\",\n",
    " )\n",
    "\n",
    "print(record.format(\"fasta\"))"
   ]
  },
  {
   "attachments": {},
   "cell_type": "markdown",
   "metadata": {},
   "source": [
    "## Slicing a *SeqRecord* object\n",
    "\n",
    "You can slice a *SeqRecord*, to give you a new *SeqRecord* covering just part of the sequence. What is important here is that any per-letter annotations are also sliced, and any features which fall completely within the new sequence are preserved (with their locations adjusted)."
   ]
  },
  {
   "cell_type": "code",
   "execution_count": 29,
   "metadata": {},
   "outputs": [
    {
     "name": "stdout",
     "output_type": "stream",
     "text": [
      "type: CDS\n",
      "location: [4342:4780](+)\n",
      "qualifiers:\n",
      "    Key: codon_start, Value: ['1']\n",
      "    Key: db_xref, Value: ['GI:45478716', 'GeneID:2767712']\n",
      "    Key: gene, Value: ['pim']\n",
      "    Key: locus_tag, Value: ['YP_pPCP05']\n",
      "    Key: note, Value: ['similar to many previously sequenced pesticin immunity protein entries of Yersinia pestis plasmid pPCP, e.g. gi| 16082683|,ref|NP_395230.1| (NC_003132) , gi|1200166|emb|CAA90861.1| (Z54145 ) , gi|1488655| emb|CAA63439.1| (X92856) , gi|2996219|gb|AAC62543.1| (AF053945) , and gi|5763814|emb|CAB531 67.1| (AL109969)']\n",
      "    Key: product, Value: ['pesticin immunity protein']\n",
      "    Key: protein_id, Value: ['NP_995571.1']\n",
      "    Key: transl_table, Value: ['11']\n",
      "    Key: translation, Value: ['MGGGMISKLFCLALIFLSSSGLAEKNTYTAKDILQNLELNTFGNSLSHGIYGKQTTFKQTEFTNIKSNTKKHIALINKDNSWMISLKILGIKRDEYTVCFEDFSLIRPPTYVAIHPLLIKKVKSGNFIVVKEIKKSIPGCTVYYH']\n",
      "\n",
      "type: gene\n",
      "location: [4342:4780](+)\n",
      "qualifiers:\n",
      "    Key: db_xref, Value: ['GeneID:2767712']\n",
      "    Key: gene, Value: ['pim']\n",
      "    Key: locus_tag, Value: ['YP_pPCP05']\n",
      "\n"
     ]
    }
   ],
   "source": [
    "record = SeqIO.read('NC_005816.gb','genbank')\n",
    "print(record.features[21])\n",
    "print(record.features[20])\n"
   ]
  },
  {
   "cell_type": "code",
   "execution_count": 30,
   "metadata": {},
   "outputs": [
    {
     "name": "stdout",
     "output_type": "stream",
     "text": [
      "2\n",
      "type: gene\n",
      "location: [42:480](+)\n",
      "qualifiers:\n",
      "    Key: db_xref, Value: ['GeneID:2767712']\n",
      "    Key: gene, Value: ['pim']\n",
      "    Key: locus_tag, Value: ['YP_pPCP05']\n",
      "\n",
      "type: CDS\n",
      "location: [42:480](+)\n",
      "qualifiers:\n",
      "    Key: codon_start, Value: ['1']\n",
      "    Key: db_xref, Value: ['GI:45478716', 'GeneID:2767712']\n",
      "    Key: gene, Value: ['pim']\n",
      "    Key: locus_tag, Value: ['YP_pPCP05']\n",
      "    Key: note, Value: ['similar to many previously sequenced pesticin immunity protein entries of Yersinia pestis plasmid pPCP, e.g. gi| 16082683|,ref|NP_395230.1| (NC_003132) , gi|1200166|emb|CAA90861.1| (Z54145 ) , gi|1488655| emb|CAA63439.1| (X92856) , gi|2996219|gb|AAC62543.1| (AF053945) , and gi|5763814|emb|CAB531 67.1| (AL109969)']\n",
      "    Key: product, Value: ['pesticin immunity protein']\n",
      "    Key: protein_id, Value: ['NP_995571.1']\n",
      "    Key: transl_table, Value: ['11']\n",
      "    Key: translation, Value: ['MGGGMISKLFCLALIFLSSSGLAEKNTYTAKDILQNLELNTFGNSLSHGIYGKQTTFKQTEFTNIKSNTKKHIALINKDNSWMISLKILGIKRDEYTVCFEDFSLIRPPTYVAIHPLLIKKVKSGNFIVVKEIKKSIPGCTVYYH']\n",
      "\n"
     ]
    }
   ],
   "source": [
    "sub_record = record[4300:4800]\n",
    "print(len(sub_record.features))\n",
    "print(sub_record.features[0]) # locations are adjusted to fit the new parent sequence\n",
    "print(sub_record.features[1])"
   ]
  },
  {
   "attachments": {},
   "cell_type": "markdown",
   "metadata": {},
   "source": [
    "While Biopython has done something sensible and hopefully intuitive with the features (and any per-letter annotation), for the other annotation it is impossible to know if this still applies to the sub-sequenceor not. To avoid guessing, with the exception of the molecule type, the *.annotations* and *.dbxrefs* are omitted from the sub-record, and it is up to you to transfer any relevant information as appropriate."
   ]
  },
  {
   "attachments": {},
   "cell_type": "markdown",
   "metadata": {},
   "source": [
    "## Adding *SeqRecord* objects\n",
    "\n",
    "You could add *SeqRecord* objects together to a new *SeqRecord* object. Noted that any common per-letter annotations are also added, all the features are preserved(with location adjusted). Common annotations like id, name and description, are kept, but some annotations like the database cross references are lost."
   ]
  },
  {
   "attachments": {},
   "cell_type": "markdown",
   "metadata": {},
   "source": [
    "## Reverse-complementing *SeqRecord* objects\n",
    "\n",
    "For the sequence, this uses the Seq object’s reverse complement method. Any features are transferred with the location and strand recalculated. Likewise any per-letter-annotation is also copied but reversed (which makes sense for typical examples like quality scores). However, transfer of most annotation is problematical.\n",
    "\n",
    "The SeqRecord object’s reverse_complement method takes a number of optional arguments corresponding to properties of the record. Setting these arguments to True means copy the old values, while False means drop the old values and use the default value. You can alternatively provide the new desired value instead."
   ]
  },
  {
   "cell_type": "code",
   "execution_count": 31,
   "metadata": {},
   "outputs": [
    {
     "name": "stdout",
     "output_type": "stream",
     "text": [
      "NC_005816.1 9609 41 1 13\n",
      "TESTING 9609 41 0 0\n"
     ]
    }
   ],
   "source": [
    "from Bio import SeqIO\n",
    "\n",
    "record = SeqIO.read(\"NC_005816.gb\", \"genbank\")\n",
    "\n",
    "print(\"%s %i %i %i %i\" %(record.id, len(record.seq), len(record.features), len(record.dbxrefs), \n",
    "                         len(record.annotations)))\n",
    "\n",
    "rc = record.reverse_complement(id = 'TESTING')\n",
    "\n",
    "print(\"%s %i %i %i %i\" %(rc.id, len(rc.seq), len(rc.features), len(rc.dbxrefs), \n",
    "                         len(rc.annotations)))"
   ]
  }
 ],
 "metadata": {
  "kernelspec": {
   "display_name": "base",
   "language": "python",
   "name": "python3"
  },
  "language_info": {
   "codemirror_mode": {
    "name": "ipython",
    "version": 3
   },
   "file_extension": ".py",
   "mimetype": "text/x-python",
   "name": "python",
   "nbconvert_exporter": "python",
   "pygments_lexer": "ipython3",
   "version": "3.9.13"
  },
  "orig_nbformat": 4
 },
 "nbformat": 4,
 "nbformat_minor": 2
}
